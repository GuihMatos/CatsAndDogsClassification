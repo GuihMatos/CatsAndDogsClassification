{
  "nbformat": 4,
  "nbformat_minor": 0,
  "metadata": {
    "colab": {
      "name": "cats_and_dogs_species_classification.ipynb",
      "provenance": [],
      "collapsed_sections": []
    },
    "kernelspec": {
      "name": "python3",
      "display_name": "Python 3"
    },
    "language_info": {
      "name": "python"
    }
  },
  "cells": [
    {
      "cell_type": "markdown",
      "source": [
        "#Plotting the number of images per class in the dataset"
      ],
      "metadata": {
        "id": "DoVA__Kn8ogH"
      }
    },
    {
      "cell_type": "code",
      "source": [
        "# import dependencies\n",
        "import os\n",
        "\n",
        "# setting some variables\n",
        "ROOT = '/content/drive/MyDrive/desafioicts/dataset/'\n",
        "IMGS_PATH = '/content/drive/MyDrive/desafioicts/dataset/images/images'\n",
        "\n",
        "# set with names of the files that do not open correctly\n",
        "bad = {'Abyssinian_34.jpg', 'Egyptian_Mau_145.jpg', 'Egyptian_Mau_139.jpg', 'Egyptian_Mau_191.jpg', 'Egyptian_Mau_177.jpg', 'Egyptian_Mau_167.jpg'}\n",
        "\n",
        "# list with 'good' file names without the extension\n",
        "all_imgs = [i for i in os.listdir(IMGS_PATH) if i.rsplit('.',1)[1] == 'jpg' and i not in bad]\n",
        "\n",
        "# some general information\n",
        "print('We have ' + str(len(all_imgs)) + ' good images.')\n",
        "print('(for some reason, there are ' + str(len(bad)) + ' that do not want to open)')"
      ],
      "metadata": {
        "colab": {
          "base_uri": "https://localhost:8080/"
        },
        "id": "2xr11e4THdGX",
        "outputId": "ab1ff3e5-36c4-41f2-8ac6-27c51cdf50d7"
      },
      "execution_count": 1,
      "outputs": [
        {
          "output_type": "stream",
          "name": "stdout",
          "text": [
            "We have 7384 good images.\n",
            "(for some reason, there are 6 that do not want to open)\n"
          ]
        }
      ]
    },
    {
      "cell_type": "code",
      "source": [
        "# getting info from 'list.txt' file\n",
        "l = open(ROOT + '/annotations/annotations/list.txt', 'r')\n",
        "\n",
        "# lambda functions to get breed and species from the annotations\n",
        "get_breed = lambda pic : pic.rsplit('_',1)[0].lower()\n",
        "get_species = lambda num : 'cat' if num==1 else 'dog'\n",
        "\n",
        "# dictionaries where data will be stored\n",
        "info_by_id = {}\n",
        "info_by_breed = {}\n",
        "\n",
        "# loop through every line in the 'list.txt' file\n",
        "for line in l:\n",
        "  \n",
        "  # if it has an '#' in the begining then we are to ignore it\n",
        "  if line[0] == '#':\n",
        "    continue\n",
        "  \n",
        "  # we create a list with the info in the row\n",
        "  line = line.strip().split(' ')\n",
        "  \n",
        "  # we get the species information, the id, the breed id and the name from the file for each row\n",
        "  species = get_species(int(line[2]))\n",
        "  id = int(line[1])\n",
        "  breedid = int(line[3])\n",
        "  name = get_breed(line[0]).lower()\n",
        "  \n",
        "  # then we store this information in the dictionaries\n",
        "  # 2 dictionaries are used in order to make the accessing the information easier!\n",
        "  if name not in info_by_breed:\n",
        "    info_by_breed[name] = {'breed': name, 'species': species, 'globalid': id, 'breedid':breedid, 'count':0}\n",
        "    info_by_id[id] = info_by_breed[name]\n",
        "\n",
        "# now we can count the number of examples for each breed\n",
        "for p in [get_breed(n) for n in all_imgs]:\n",
        "  info_by_breed[p]['count']+=1"
      ],
      "metadata": {
        "id": "6LJGJcA5Hwc1"
      },
      "execution_count": 2,
      "outputs": []
    },
    {
      "cell_type": "code",
      "source": [
        "# we need to import this:\n",
        "import matplotlib.pyplot as plt\n",
        "\n",
        "# getting all the breed ids from the dictionaries\n",
        "ids = list(info_by_id.keys())\n",
        "\n",
        "# creating a list with all the Y values (number of examples per breed) ordered by id\n",
        "counts = [info_by_id[id]['count'] for id in ids]\n",
        "\n",
        "# creating a list of the names of the breeds ordered by id\n",
        "x_labels = [info_by_id[i]['breed'] for i in ids]\n",
        "\n",
        "# setting the bar colour depending on whether it is a cat or a dog\n",
        "colours = [ 'blue' if info_by_id[id]['species']=='cat' else 'red' for id in ids]\n",
        "\n",
        "# preparing labels and legend\n",
        "colours_leg = {'cat': 'blue', 'dog':'red'}\n",
        "labels = list(colours_leg.keys())\n",
        "handles = [plt.Rectangle((0,0),1,1, color=colours_leg[label]) for label in colours_leg]\n",
        "\n",
        "# plotting\n",
        "fig, ax = plt.subplots( figsize= (11,4))\n",
        "ax.bar(ids, counts, color=colours)\n",
        "\n",
        "# set ticks and axis labels and legend:\n",
        "ax.set_xticks(ids)\n",
        "ax.set_xticklabels(x_labels, rotation='vertical')\n",
        "plt.legend(handles, labels)\n",
        "plt.xlabel('breeds')\n",
        "plt.ylabel('no. of pictures')\n",
        "plt.title('Image distribution by breed')\n",
        "plt.show()\n",
        "\n",
        "# determining numbers of examples of cats and dogs\n",
        "nr_cats = sum([ info_by_id[id]['count'] for id in ids if info_by_id[id]['species'] == 'cat' ])\n",
        "nr_dogs = sum([ info_by_id[id]['count'] for id in ids if info_by_id[id]['species'] == 'dog' ])\n",
        "print('There are ' + str(nr_cats) + ' images of cats, and ' + str(nr_dogs) + ' of dogs!')"
      ],
      "metadata": {
        "colab": {
          "base_uri": "https://localhost:8080/",
          "height": 427
        },
        "id": "uCQ1wwH6kJ9P",
        "outputId": "a14d16fa-a98e-4111-95df-55495cbf6b1a"
      },
      "execution_count": 3,
      "outputs": [
        {
          "output_type": "display_data",
          "data": {
            "image/png": "[encoded data removed]",
            "text/plain": [
              "<Figure size 792x288 with 1 Axes>"
            ]
          },
          "metadata": {
            "needs_background": "light"
          }
        },
        {
          "output_type": "stream",
          "name": "stdout",
          "text": [
            "There are 2394 images of cats, and 4990 of dogs!\n"
          ]
        }
      ]
    },
    {
      "cell_type": "markdown",
      "source": [
        "#Creating the Tensorflow model"
      ],
      "metadata": {
        "id": "Sp2aXjSO8iK6"
      }
    },
    {
      "cell_type": "code",
      "source": [
        "# more imports\n",
        "import tensorflow as tf\n",
        "from tensorflow.keras.applications import InceptionV3\n",
        "from tensorflow.keras.models import Model, Sequential\n",
        "from tensorflow.keras.layers import Input, UpSampling2D, Flatten, BatchNormalization, Dense, Dropout, GlobalAveragePooling2D\n",
        "from tensorflow.keras.applications.inception_v3 import preprocess_input\n",
        "from tensorflow.keras.optimizers import Adam\n",
        "\n",
        "def getModel(dropout=.25, learning_rate=0.001, augmentation=False):\n",
        "  # 'frozen' base model\n",
        "  base_model = InceptionV3(weights='imagenet', include_top=False, input_shape=(299, 299, 3))\n",
        "  base_model.trainable = False\n",
        "\n",
        "  # input layer\n",
        "  inputs = tf.keras.Input(shape=(299, 299, 3))\n",
        "  x = inputs\n",
        "  \n",
        "  # pass results to a preprocessing layer\n",
        "  x = tf.keras.applications.inception_v3.preprocess_input(x)\n",
        "  \n",
        "  # send results to the already trained model\n",
        "  x = base_model(x, training=False)\n",
        "  \n",
        "  # send results to pooling layer\n",
        "  x = tf.keras.layers.GlobalAveragePooling2D()(x)\n",
        "  \n",
        "  # send to fully connected layer\n",
        "  x = tf.keras.layers.Dense(256,activation='relu')(x)\n",
        "  \n",
        "  # send to dropout layer\n",
        "  x = tf.keras.layers.Dropout(dropout)(x)\n",
        "  \n",
        "  # send to batch normalization layer\n",
        "  x = tf.keras.layers.BatchNormalization()(x)\n",
        "  \n",
        "  # send to fully connected layer\n",
        "  x = tf.keras.layers.Dense(128,activation='relu')(x)\n",
        "   \n",
        "  # send to output dense layer with Sigmoid activation function\n",
        "  outputs = tf.keras.layers.Dense(1,activation='sigmoid')(x)\n",
        "  \n",
        "  # create a model with these layers\n",
        "  model = tf.keras.Model(inputs, outputs)\n",
        "  \n",
        "  # show some information\n",
        "  model.summary()\n",
        "\n",
        "  # compile model with Adam optimizer\n",
        "  # and chosing accuracy as the metric to evaluate the model performance during training\n",
        "  model.compile(loss='binary_crossentropy', optimizer=Adam(learning_rate=learning_rate), metrics=['accuracy'])\n",
        "\n",
        "  return model"
      ],
      "metadata": {
        "id": "9UJYqSgEN32P"
      },
      "execution_count": 4,
      "outputs": []
    },
    {
      "cell_type": "markdown",
      "source": [
        "#Preparing Images and Labels"
      ],
      "metadata": {
        "id": "Z59h94Pm8caX"
      }
    },
    {
      "cell_type": "code",
      "source": [
        "# some more imports\n",
        "import random\n",
        "import cv2\n",
        "import numpy as np\n",
        "\n",
        "# setting image pixel side size\n",
        "IMG_SIZE = 299\n",
        "\n",
        "def getXy():\n",
        "  # function that returns the *class* correspondent to the breed of \n",
        "  # the animal in the image, given the image name\n",
        "  get_class_no = lambda name : info_by_breed[get_breed(name)]['species']\n",
        "  \n",
        "  # all image tensors will be stored here after resizing\n",
        "  training_data = []\n",
        "  \n",
        "  for img in all_imgs:\n",
        "    path = os.path.join(IMGS_PATH, img)\n",
        "  \n",
        "    # this is a trick to make the image be opened in RGB format, which is not the default\n",
        "    img_array = cv2.imread(path)[...,::-1] \n",
        "\n",
        "    # here the images are rezise\n",
        "    img_array = cv2.resize(img_array, (IMG_SIZE, IMG_SIZE))\n",
        "  \n",
        "    # get the *specie* of the image class\n",
        "    class_no = get_class_no(img)\n",
        "\n",
        "    # relates the breed id to the corresponding image\n",
        "    training_data.append([img_array, class_no])\n",
        "    \n",
        "  # data should be in random order to improve performance\n",
        "  random.shuffle(training_data)\n",
        "  \n",
        "  # separating data from list\n",
        "  training = list(zip(*training_data))\n",
        "  X = training[0] #images\n",
        "  y = training[1] #labels\n",
        "  \n",
        "  # transforming X to an np.array and resizing\n",
        "  X = np.array(X).reshape(-1, IMG_SIZE, IMG_SIZE, 3)\n",
        "\n",
        "  return X, y"
      ],
      "metadata": {
        "id": "04o8ft9Ji03o"
      },
      "execution_count": 5,
      "outputs": []
    },
    {
      "cell_type": "code",
      "source": [
        "#getXy()"
      ],
      "metadata": {
        "id": "pUkmJt7c-c0S"
      },
      "execution_count": 6,
      "outputs": []
    },
    {
      "cell_type": "code",
      "source": [
        "X, y = getXy() # execute with GPU (without GPU = 17min, with GPU = 3min)"
      ],
      "metadata": {
        "id": "xvKQnIF8knNa"
      },
      "execution_count": 7,
      "outputs": []
    },
    {
      "cell_type": "code",
      "source": [
        "y_labels = []\n",
        "for class_name in y:\n",
        "    if class_name == 'dog':\n",
        "        y_labels.append(1)\n",
        "    else:\n",
        "        y_labels.append(0)"
      ],
      "metadata": {
        "id": "cBLaDznLVc9F"
      },
      "execution_count": 8,
      "outputs": []
    },
    {
      "cell_type": "code",
      "source": [
        "#print(y_labels)"
      ],
      "metadata": {
        "id": "h8hZtX4LZ_iM"
      },
      "execution_count": 9,
      "outputs": []
    },
    {
      "cell_type": "markdown",
      "source": [
        "#Splitting the training and testing data"
      ],
      "metadata": {
        "id": "AEapKVjL8TYp"
      }
    },
    {
      "cell_type": "code",
      "source": [
        "# one more import\n",
        "from sklearn.model_selection import train_test_split\n",
        "\n",
        "# stratified split\n",
        "x_train, x_test, y_train, y_test = train_test_split(X, y_labels, test_size=0.3, stratify=y)"
      ],
      "metadata": {
        "id": "lr0NnAomjF6Q"
      },
      "execution_count": 10,
      "outputs": []
    },
    {
      "cell_type": "code",
      "source": [
        "y_train = np.array(y_train)\n",
        "y_test = np.array(y_test)"
      ],
      "metadata": {
        "id": "rI_QJQzDXTDw"
      },
      "execution_count": 11,
      "outputs": []
    },
    {
      "cell_type": "markdown",
      "source": [
        "#Training and Evaluating the Model"
      ],
      "metadata": {
        "id": "7DqGm1x58AYb"
      }
    },
    {
      "cell_type": "code",
      "source": [
        "# get an instance of the model\n",
        "model = getModel(learning_rate=0.001, dropout=0.35)\n",
        "\n",
        "# train the model\n",
        "model.fit(x_train, y_train, batch_size=32, epochs=3, validation_data=(x_test, y_test))\n",
        "\n",
        "# predict for the test data\n",
        "y_pred = model.predict(x_test)"
      ],
      "metadata": {
        "id": "R7sMSjhTobH_",
        "colab": {
          "base_uri": "https://localhost:8080/"
        },
        "outputId": "7e724316-748c-4adb-b1a2-3767148d0ce2"
      },
      "execution_count": 12,
      "outputs": [
        {
          "output_type": "stream",
          "name": "stdout",
          "text": [
            "Model: \"model\"\n",
            "_________________________________________________________________\n",
            " Layer (type)                Output Shape              Param #   \n",
            "=================================================================\n",
            " input_2 (InputLayer)        [(None, 299, 299, 3)]     0         \n",
            "                                                                 \n",
            " tf.math.truediv (TFOpLambda  (None, 299, 299, 3)      0         \n",
            " )                                                               \n",
            "                                                                 \n",
            " tf.math.subtract (TFOpLambd  (None, 299, 299, 3)      0         \n",
            " a)                                                              \n",
            "                                                                 \n",
            " inception_v3 (Functional)   (None, 8, 8, 2048)        21802784  \n",
            "                                                                 \n",
            " global_average_pooling2d (G  (None, 2048)             0         \n",
            " lobalAveragePooling2D)                                          \n",
            "                                                                 \n",
            " dense (Dense)               (None, 256)               524544    \n",
            "                                                                 \n",
            " dropout (Dropout)           (None, 256)               0         \n",
            "                                                                 \n",
            " batch_normalization_94 (Bat  (None, 256)              1024      \n",
            " chNormalization)                                                \n",
            "                                                                 \n",
            " dense_1 (Dense)             (None, 128)               32896     \n",
            "                                                                 \n",
            " dense_2 (Dense)             (None, 1)                 129       \n",
            "                                                                 \n",
            "=================================================================\n",
            "Total params: 22,361,377\n",
            "Trainable params: 558,081\n",
            "Non-trainable params: 21,803,296\n",
            "_________________________________________________________________\n",
            "Epoch 1/3\n",
            "162/162 [==============================] - 44s 185ms/step - loss: 0.0437 - accuracy: 0.9816 - val_loss: 0.0084 - val_accuracy: 0.9977\n",
            "Epoch 2/3\n",
            "162/162 [==============================] - 26s 162ms/step - loss: 0.0072 - accuracy: 0.9977 - val_loss: 0.0047 - val_accuracy: 0.9986\n",
            "Epoch 3/3\n",
            "162/162 [==============================] - 27s 165ms/step - loss: 0.0072 - accuracy: 0.9977 - val_loss: 0.0098 - val_accuracy: 0.9973\n"
          ]
        }
      ]
    },
    {
      "cell_type": "code",
      "source": [
        "import tensorflow as tf\n",
        "from keras.preprocessing import image"
      ],
      "metadata": {
        "id": "QJz7_xS0sceH"
      },
      "execution_count": 13,
      "outputs": []
    },
    {
      "cell_type": "code",
      "source": [
        "single_img_path = image.load_img('/content/drive/MyDrive/desafioicts/single_images_test/dog3-pomeranian.jpg', target_size=(299,299))\n",
        "single_img = tf.keras.preprocessing.image.img_to_array(single_img_path)\n",
        "single_img = np.expand_dims(single_img, axis=0)\n",
        "\n",
        "single_img_pred = model.predict(single_img)\n",
        "\n",
        "if single_img_pred > 0.5:\n",
        "    print(f\"O animal na imagem submetida é um cachorro!\")\n",
        "    print(f\"Valor previsto para a classe: {single_img_pred[0][0]} (Valor muito próximo de 1)\")\n",
        "else:\n",
        "    print(f\"O animal na imagem submetida é um gato!\")\n",
        "    print(f\"Valor previsto para a classe: {single_img_pred[0][0]} (Valor muito próximo de 0)\")"
      ],
      "metadata": {
        "id": "EC4hM3Rm9Auc",
        "colab": {
          "base_uri": "https://localhost:8080/"
        },
        "outputId": "0abf013b-f4d0-4bde-f68f-4f4f49be3602"
      },
      "execution_count": 14,
      "outputs": [
        {
          "output_type": "stream",
          "name": "stdout",
          "text": [
            "O animal na imagem submetida é um cachorro!\n",
            "Valor previsto para a classe: 0.9999244213104248 (Valor muito próximo de 1)\n"
          ]
        }
      ]
    },
    {
      "cell_type": "markdown",
      "source": [
        "#Saving the Model"
      ],
      "metadata": {
        "id": "0QQfnkha70Mz"
      }
    },
    {
      "cell_type": "code",
      "source": [
        "model.save('catsdogs_species.h5')"
      ],
      "metadata": {
        "id": "jSdnCGgCW0f2"
      },
      "execution_count": 15,
      "outputs": []
    }
  ]
}